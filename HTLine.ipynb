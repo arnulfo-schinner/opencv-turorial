import sys
import numpy as np
import cv2
import math
import matplotlib.pyplot as plt
from mpl_toolkits.mplot3d import Axes3D



# Hough Polar Transform: Line Detection
def HTLine(image, stepTheta=1, stepRho=1):
    # Width, height
    rows, cols = image.shape
    # Maximum possible length of a line in the image
    L = round(math.sqrt(pow(rows - 1, 2.0) + pow(cols - 1, 2.0))) + 1
    # Initialize the accumulator
    numtheta = int(180.0 / stepTheta)
    numRho = int(2 * L / stepRho + 1)
    accumulator = np.zeros((numRho, numtheta), np.int32)
    # Create a dictionary
    accuDict = {}
    for k1 in range(numRho):
        for k2 in range(numtheta):
            accuDict[(k1, k2)] = []
    # Vote counting
    for y in range(rows):
        for x in range(cols):
            if image[y][x] == 255:  # Only perform Hough transform on edge points
                for m in range(numtheta):
                    # For each angle, calculate the corresponding rho value
                    rho = x * math.cos(stepTheta * m / 180.0 * math.pi) + y * math.sin(stepTheta * m / 180.0 * math.pi)
                    # Calculate which area to vote for
                    n = int(round(rho + L) / stepRho)
                    # Increment vote by 1
                    accumulator[n, m] += 1
                    # Record this point
                    accuDict[(n, m)].append((x, y))
    return accumulator, accuDict
